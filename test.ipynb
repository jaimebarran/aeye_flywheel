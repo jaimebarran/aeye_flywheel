{
 "cells": [
  {
   "cell_type": "code",
   "execution_count": 2,
   "metadata": {},
   "outputs": [
    {
     "data": {
      "text/plain": [
       "'/mnt/sda1/Repos/flywheel/aeye_flywheel/I_Kopf_t1_mpr_tra_iso_p2_0000.nii.gz'"
      ]
     },
     "execution_count": 2,
     "metadata": {},
     "output_type": "execute_result"
    }
   ],
   "source": [
    "import os\n",
    "import shutil\n",
    "\n",
    "def rename_and_copy_file(original_path, new_path):\n",
    "    \"\"\"\n",
    "    Rename a file and copy it to another folder.\n",
    "\n",
    "    Args:\n",
    "        original_path (str): The path to the original file.\n",
    "        new_name (str): The new name for the file.\n",
    "        destination_folder (str): The path to the destination folder.\n",
    "\n",
    "    Returns:\n",
    "        str: The path to the copied file in the destination folder.\n",
    "    \"\"\"\n",
    "    old_name = os.path.basename(input_file).split(\".\")[0]\n",
    "    new_name = old_name + \"_0000\" + \".nii.gz\"\n",
    "\n",
    "    # Construct the new path with the new name\n",
    "    new_path = os.path.join(output_dir, new_name)\n",
    "\n",
    "    # Rename and copy the file\n",
    "    shutil.copy2(original_path, new_path)\n",
    "\n",
    "    return new_path\n",
    "\n",
    "# Check input filenames (nnUNet format (_0000.nii.gz))\n",
    "input_file = os.path.abspath(\"./I_Kopf_t1_mpr_tra_iso_p2.nii.gz\")\n",
    "output_dir = os.path.abspath(\"./\")\n",
    "rename_and_copy_file(input_file, output_dir)"
   ]
  }
 ],
 "metadata": {
  "kernelspec": {
   "display_name": "Python 3",
   "language": "python",
   "name": "python3"
  },
  "language_info": {
   "codemirror_mode": {
    "name": "ipython",
    "version": 3
   },
   "file_extension": ".py",
   "mimetype": "text/x-python",
   "name": "python",
   "nbconvert_exporter": "python",
   "pygments_lexer": "ipython3",
   "version": "3.8.13"
  }
 },
 "nbformat": 4,
 "nbformat_minor": 2
}
